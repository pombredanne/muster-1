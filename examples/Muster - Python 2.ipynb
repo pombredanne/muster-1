{
 "cells": [
  {
   "cell_type": "markdown",
   "metadata": {},
   "source": [
    "# Python 2.7"
   ]
  },
  {
   "cell_type": "code",
   "execution_count": 1,
   "metadata": {
    "collapsed": false
   },
   "outputs": [],
   "source": [
    "from muster import Model, Member, member, grouping"
   ]
  },
  {
   "cell_type": "code",
   "execution_count": 2,
   "metadata": {
    "collapsed": false
   },
   "outputs": [],
   "source": [
    "class A(Model):\n",
    "    \n",
    "    x = Member(attr=True)\n",
    "    y = Member(attr=True)\n",
    "    \n",
    "    @grouping(Member)\n",
    "    def attrs(cls, members):\n",
    "        for m in members:\n",
    "            if m.data.get(\"attr\", False):\n",
    "                yield m\n",
    "\n",
    "\n",
    "class B(A):\n",
    "    \n",
    "    @member(\"attrs:when:set\")\n",
    "    def _print_attr_changes(self, member, value):\n",
    "        old = getattr(self, member.public)\n",
    "        yield\n",
    "        new = getattr(self, member.public)\n",
    "        if new != old:\n",
    "            print(\"%r : %r => %r\" % (member.public, old, new))\n",
    "    \n",
    "    @member(\"attrs:when:default\")\n",
    "    def _attrs_default(self, member):\n",
    "        yield {\"value\": None}\n",
    "\n",
    "\n",
    "class C(B):\n",
    "    \n",
    "    @member(\"x:then:_print_attr_changes\")\n",
    "    def _x_as_list(self, member, value):\n",
    "        yield {\"value\": list(value)}"
   ]
  },
  {
   "cell_type": "markdown",
   "metadata": {},
   "source": [
    "# Grouping"
   ]
  },
  {
   "cell_type": "code",
   "execution_count": 3,
   "metadata": {
    "collapsed": false
   },
   "outputs": [],
   "source": [
    "a = A()\n",
    "a.x = 1\n",
    "a.y = 2"
   ]
  },
  {
   "cell_type": "code",
   "execution_count": 4,
   "metadata": {
    "collapsed": false
   },
   "outputs": [
    {
     "data": {
      "text/plain": [
       "{'x': 1, 'y': 2}"
      ]
     },
     "execution_count": 4,
     "metadata": {},
     "output_type": "execute_result"
    }
   ],
   "source": [
    "a.attrs"
   ]
  },
  {
   "cell_type": "markdown",
   "metadata": {},
   "source": [
    "# Callbacks"
   ]
  },
  {
   "cell_type": "code",
   "execution_count": 5,
   "metadata": {
    "collapsed": true
   },
   "outputs": [],
   "source": [
    "b = B()"
   ]
  },
  {
   "cell_type": "code",
   "execution_count": 6,
   "metadata": {
    "collapsed": false
   },
   "outputs": [
    {
     "name": "stdout",
     "output_type": "stream",
     "text": [
      "None\n"
     ]
    }
   ],
   "source": [
    "print(b.x)"
   ]
  },
  {
   "cell_type": "code",
   "execution_count": 7,
   "metadata": {
    "collapsed": false
   },
   "outputs": [
    {
     "name": "stdout",
     "output_type": "stream",
     "text": [
      "'x' : None => '123'\n"
     ]
    }
   ],
   "source": [
    "b.x = \"123\""
   ]
  },
  {
   "cell_type": "markdown",
   "metadata": {},
   "source": [
    "# Wizardry"
   ]
  },
  {
   "cell_type": "code",
   "execution_count": 8,
   "metadata": {
    "collapsed": true
   },
   "outputs": [],
   "source": [
    "c = C()"
   ]
  },
  {
   "cell_type": "code",
   "execution_count": 9,
   "metadata": {
    "collapsed": false
   },
   "outputs": [
    {
     "name": "stdout",
     "output_type": "stream",
     "text": [
      "'x' : None => ['1', '2', '3']\n"
     ]
    }
   ],
   "source": [
    "c.x = \"123\""
   ]
  },
  {
   "cell_type": "code",
   "execution_count": 10,
   "metadata": {
    "collapsed": false
   },
   "outputs": [
    {
     "name": "stdout",
     "output_type": "stream",
     "text": [
      "'y' : None => '123'\n"
     ]
    }
   ],
   "source": [
    "c.y = \"123\""
   ]
  },
  {
   "cell_type": "code",
   "execution_count": null,
   "metadata": {
    "collapsed": true
   },
   "outputs": [],
   "source": []
  }
 ],
 "metadata": {
  "anaconda-cloud": {},
  "kernelspec": {
   "display_name": "Python [conda env:PY2]",
   "language": "python",
   "name": "conda-env-PY2-py"
  },
  "language_info": {
   "codemirror_mode": {
    "name": "ipython",
    "version": 2
   },
   "file_extension": ".py",
   "mimetype": "text/x-python",
   "name": "python",
   "nbconvert_exporter": "python",
   "pygments_lexer": "ipython2",
   "version": "2.7.13"
  }
 },
 "nbformat": 4,
 "nbformat_minor": 2
}
